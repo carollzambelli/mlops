{
 "cells": [
  {
   "cell_type": "code",
   "execution_count": null,
   "id": "1c2d5a9d",
   "metadata": {},
   "outputs": [],
   "source": [
    "import pandas as pd\n",
    "import pickle\n",
    "from src.utils import validate_inputs\n",
    "from src.core import config, PACKAGE_ROOT, ASSETS_PATH"
   ]
  },
  {
   "cell_type": "code",
   "execution_count": null,
   "id": "4c251628",
   "metadata": {},
   "outputs": [],
   "source": [
    "data = pd.read_csv(f'{PACKAGE_ROOT}/{config.ml_config.predict_data_path}',index_col=0)"
   ]
  },
  {
   "cell_type": "code",
   "execution_count": null,
   "id": "cf45d282",
   "metadata": {},
   "outputs": [],
   "source": [
    "filename = f'{ASSETS_PATH}/{config.ml_config.production_model_file}'\n",
    "load_model = pickle.load(filename, 'rb')"
   ]
  },
  {
   "cell_type": "code",
   "execution_count": null,
   "id": "8b3cc4b2",
   "metadata": {},
   "outputs": [],
   "source": [
    "predictions = load_model.predict(validated_data[config.ml_config.features])"
   ]
  }
 ],
 "metadata": {
  "kernelspec": {
   "display_name": "base",
   "language": "python",
   "name": "python3"
  },
  "language_info": {
   "codemirror_mode": {
    "name": "ipython",
    "version": 3
   },
   "file_extension": ".py",
   "mimetype": "text/x-python",
   "name": "python",
   "nbconvert_exporter": "python",
   "pygments_lexer": "ipython3",
   "version": "3.12.7"
  }
 },
 "nbformat": 4,
 "nbformat_minor": 5
}
