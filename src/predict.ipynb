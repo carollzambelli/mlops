{
 "cells": [
  {
   "cell_type": "code",
   "execution_count": 1,
   "metadata": {},
   "outputs": [],
   "source": [
    "from pathlib import Path\n",
    "import pandas as pd\n",
    "import pickle\n",
    "import numpy as np\n",
    "import glob\n",
    "import os"
   ]
  },
  {
   "cell_type": "code",
   "execution_count": 2,
   "metadata": {},
   "outputs": [
    {
     "data": {
      "text/html": [
       "<div>\n",
       "<style scoped>\n",
       "    .dataframe tbody tr th:only-of-type {\n",
       "        vertical-align: middle;\n",
       "    }\n",
       "\n",
       "    .dataframe tbody tr th {\n",
       "        vertical-align: top;\n",
       "    }\n",
       "\n",
       "    .dataframe thead th {\n",
       "        text-align: right;\n",
       "    }\n",
       "</style>\n",
       "<table border=\"1\" class=\"dataframe\">\n",
       "  <thead>\n",
       "    <tr style=\"text-align: right;\">\n",
       "      <th></th>\n",
       "      <th>sqft_living</th>\n",
       "      <th>sqft_lot</th>\n",
       "      <th>sqft_above</th>\n",
       "      <th>sqft_basement</th>\n",
       "      <th>sqft_living15</th>\n",
       "      <th>sqft_lot15</th>\n",
       "      <th>bedrooms</th>\n",
       "      <th>bathrooms</th>\n",
       "      <th>floors</th>\n",
       "      <th>view_encoded</th>\n",
       "      <th>condition_encoded</th>\n",
       "      <th>grade_encoded</th>\n",
       "      <th>tempo_imovel</th>\n",
       "      <th>tempo_renovacao</th>\n",
       "      <th>zipcode_encoded</th>\n",
       "    </tr>\n",
       "  </thead>\n",
       "  <tbody>\n",
       "    <tr>\n",
       "      <th>17384</th>\n",
       "      <td>0.086038</td>\n",
       "      <td>0.000685</td>\n",
       "      <td>0.125000</td>\n",
       "      <td>0.000000</td>\n",
       "      <td>0.177422</td>\n",
       "      <td>0.001148</td>\n",
       "      <td>2</td>\n",
       "      <td>1</td>\n",
       "      <td>3</td>\n",
       "      <td>0.0</td>\n",
       "      <td>0.0</td>\n",
       "      <td>0.0</td>\n",
       "      <td>26</td>\n",
       "      <td>0</td>\n",
       "      <td>1.0</td>\n",
       "    </tr>\n",
       "    <tr>\n",
       "      <th>722</th>\n",
       "      <td>0.330566</td>\n",
       "      <td>0.031085</td>\n",
       "      <td>0.480263</td>\n",
       "      <td>0.000000</td>\n",
       "      <td>0.659267</td>\n",
       "      <td>0.046435</td>\n",
       "      <td>4</td>\n",
       "      <td>3</td>\n",
       "      <td>2</td>\n",
       "      <td>0.0</td>\n",
       "      <td>2.0</td>\n",
       "      <td>7.0</td>\n",
       "      <td>37</td>\n",
       "      <td>0</td>\n",
       "      <td>10.0</td>\n",
       "    </tr>\n",
       "    <tr>\n",
       "      <th>2680</th>\n",
       "      <td>0.086792</td>\n",
       "      <td>0.001926</td>\n",
       "      <td>0.099781</td>\n",
       "      <td>0.049793</td>\n",
       "      <td>0.179143</td>\n",
       "      <td>0.004192</td>\n",
       "      <td>2</td>\n",
       "      <td>0</td>\n",
       "      <td>1</td>\n",
       "      <td>0.0</td>\n",
       "      <td>0.0</td>\n",
       "      <td>0.0</td>\n",
       "      <td>111</td>\n",
       "      <td>0</td>\n",
       "      <td>12.0</td>\n",
       "    </tr>\n",
       "    <tr>\n",
       "      <th>18754</th>\n",
       "      <td>0.063396</td>\n",
       "      <td>0.001284</td>\n",
       "      <td>0.092105</td>\n",
       "      <td>0.000000</td>\n",
       "      <td>0.220444</td>\n",
       "      <td>0.002928</td>\n",
       "      <td>2</td>\n",
       "      <td>1</td>\n",
       "      <td>1</td>\n",
       "      <td>0.0</td>\n",
       "      <td>2.0</td>\n",
       "      <td>2.0</td>\n",
       "      <td>98</td>\n",
       "      <td>0</td>\n",
       "      <td>10.0</td>\n",
       "    </tr>\n",
       "    <tr>\n",
       "      <th>14554</th>\n",
       "      <td>0.218113</td>\n",
       "      <td>0.005502</td>\n",
       "      <td>0.316886</td>\n",
       "      <td>0.000000</td>\n",
       "      <td>0.351230</td>\n",
       "      <td>0.016783</td>\n",
       "      <td>4</td>\n",
       "      <td>2</td>\n",
       "      <td>2</td>\n",
       "      <td>3.0</td>\n",
       "      <td>0.0</td>\n",
       "      <td>4.0</td>\n",
       "      <td>23</td>\n",
       "      <td>0</td>\n",
       "      <td>48.0</td>\n",
       "    </tr>\n",
       "  </tbody>\n",
       "</table>\n",
       "</div>"
      ],
      "text/plain": [
       "       sqft_living  sqft_lot  sqft_above  sqft_basement  sqft_living15  \\\n",
       "17384     0.086038  0.000685    0.125000       0.000000       0.177422   \n",
       "722       0.330566  0.031085    0.480263       0.000000       0.659267   \n",
       "2680      0.086792  0.001926    0.099781       0.049793       0.179143   \n",
       "18754     0.063396  0.001284    0.092105       0.000000       0.220444   \n",
       "14554     0.218113  0.005502    0.316886       0.000000       0.351230   \n",
       "\n",
       "       sqft_lot15  bedrooms  bathrooms  floors  view_encoded  \\\n",
       "17384    0.001148         2          1       3           0.0   \n",
       "722      0.046435         4          3       2           0.0   \n",
       "2680     0.004192         2          0       1           0.0   \n",
       "18754    0.002928         2          1       1           0.0   \n",
       "14554    0.016783         4          2       2           3.0   \n",
       "\n",
       "       condition_encoded  grade_encoded  tempo_imovel  tempo_renovacao  \\\n",
       "17384                0.0            0.0            26                0   \n",
       "722                  2.0            7.0            37                0   \n",
       "2680                 0.0            0.0           111                0   \n",
       "18754                2.0            2.0            98                0   \n",
       "14554                0.0            4.0            23                0   \n",
       "\n",
       "       zipcode_encoded  \n",
       "17384              1.0  \n",
       "722               10.0  \n",
       "2680              12.0  \n",
       "18754             10.0  \n",
       "14554             48.0  "
      ]
     },
     "execution_count": 2,
     "metadata": {},
     "output_type": "execute_result"
    }
   ],
   "source": [
    "PACKAGE_ROOT = Path().resolve().parents[0]\n",
    "data = pd.read_csv(f'{PACKAGE_ROOT}/datasets/house_price_predict_prepared.csv', index_col=0)\n",
    "data.head()"
   ]
  },
  {
   "cell_type": "code",
   "execution_count": 3,
   "metadata": {},
   "outputs": [
    {
     "name": "stdout",
     "output_type": "stream",
     "text": [
      "['../models\\\\house_price_regression_2025-01-08.pkl']\n"
     ]
    }
   ],
   "source": [
    "model_folder = os.path.join(os.path.dirname('../models/house_price_regression'), '*')\n",
    "models = sorted(\n",
    "    glob.iglob(model_folder), key=os.path.getctime, reverse=True) \n",
    "print(models)"
   ]
  },
  {
   "cell_type": "code",
   "execution_count": 4,
   "metadata": {},
   "outputs": [],
   "source": [
    "load_model = pickle.load(open(models[0], 'rb'))"
   ]
  },
  {
   "cell_type": "code",
   "execution_count": 5,
   "metadata": {},
   "outputs": [],
   "source": [
    "features = ['sqft_living','sqft_lot','sqft_above','sqft_basement','sqft_living15','sqft_lot15',\n",
    "            'bedrooms','bathrooms','floors','view_encoded','condition_encoded','grade_encoded',\n",
    "            'tempo_imovel','tempo_renovacao','zipcode_encoded']\n",
    "predictions = load_model.predict(data[features])"
   ]
  },
  {
   "cell_type": "code",
   "execution_count": 6,
   "metadata": {},
   "outputs": [
    {
     "data": {
      "text/plain": [
       "array([12.64939037, 14.30513809, 13.1518823 , ..., 12.78628722,\n",
       "       12.48841906, 13.02846056])"
      ]
     },
     "execution_count": 6,
     "metadata": {},
     "output_type": "execute_result"
    }
   ],
   "source": [
    "predictions"
   ]
  },
  {
   "cell_type": "code",
   "execution_count": null,
   "metadata": {},
   "outputs": [],
   "source": [
    "np.exp(predictions)"
   ]
  }
 ],
 "metadata": {
  "kernelspec": {
   "display_name": "base",
   "language": "python",
   "name": "python3"
  },
  "language_info": {
   "codemirror_mode": {
    "name": "ipython",
    "version": 3
   },
   "file_extension": ".py",
   "mimetype": "text/x-python",
   "name": "python",
   "nbconvert_exporter": "python",
   "pygments_lexer": "ipython3",
   "version": "3.12.4"
  }
 },
 "nbformat": 4,
 "nbformat_minor": 2
}
