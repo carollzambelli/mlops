{
 "cells": [
  {
   "cell_type": "code",
   "execution_count": 1,
   "metadata": {},
   "outputs": [],
   "source": [
    "from pathlib import Path\n",
    "from typing import Dict, List\n",
    "from pydantic import BaseModel\n",
    "from strictyaml import load"
   ]
  },
  {
   "cell_type": "markdown",
   "metadata": {},
   "source": [
    "### Entendendo o Pydantic"
   ]
  },
  {
   "cell_type": "code",
   "execution_count": 2,
   "metadata": {},
   "outputs": [],
   "source": [
    "class Formulario(BaseModel):\n",
    "    nome: str\n",
    "    idade: float\n",
    "    email: str"
   ]
  },
  {
   "cell_type": "code",
   "execution_count": 7,
   "metadata": {},
   "outputs": [],
   "source": [
    "dados_do_formulario = {\n",
    "    \"nome\": \"Alice\",\n",
    "    \"idade\": \"30\",\n",
    "    \"email\": \"alice@example.com\"\n",
    "}"
   ]
  },
  {
   "cell_type": "code",
   "execution_count": 8,
   "metadata": {},
   "outputs": [
    {
     "name": "stdout",
     "output_type": "stream",
     "text": [
      "Dados válidos: {'nome': 'Alice', 'idade': 30.0, 'email': 'alice@example.com'}\n"
     ]
    }
   ],
   "source": [
    "try:\n",
    "    formulario_validado = Formulario(**dados_do_formulario)\n",
    "    print(\"Dados válidos:\", formulario_validado.model_dump())\n",
    "except Exception as e:\n",
    "    print(\"Erro na validação:\", e)"
   ]
  },
  {
   "cell_type": "markdown",
   "metadata": {},
   "source": [
    "### Gerando modelos de dados a serem validados"
   ]
  },
  {
   "cell_type": "code",
   "execution_count": 10,
   "metadata": {},
   "outputs": [
    {
     "name": "stdout",
     "output_type": "stream",
     "text": [
      "C:\\Users\\Carolina\\OneDrive\\Github\\mlops\n",
      "C:\\Users\\Carolina\\OneDrive\\Github\\mlops\\assets\n",
      "C:\\Users\\Carolina\\OneDrive\\Github\\mlops\\assets\\config.yml\n"
     ]
    }
   ],
   "source": [
    "PACKAGE_ROOT = Path().resolve().parents[0]\n",
    "ASSETS_PATH =  PACKAGE_ROOT / \"assets\"\n",
    "CONFIG_FILE_PATH = ASSETS_PATH / \"config.yml\"\n",
    "print(PACKAGE_ROOT)\n",
    "print(ASSETS_PATH)\n",
    "print(CONFIG_FILE_PATH)"
   ]
  },
  {
   "cell_type": "code",
   "execution_count": 11,
   "metadata": {},
   "outputs": [],
   "source": [
    "class ModelConfig(BaseModel):\n",
    "    \"\"\"\n",
    "    All configuration relevant to model\n",
    "    training and feature engineering.\n",
    "    \"\"\"\n",
    "    target: str\n",
    "    features: List[str]\n",
    "    trained_model_file: str\n",
    "    train_data_path : str\n",
    "    result_data_path : str\n",
    "    predict_data_path : str\n",
    "    r2_score_limit : float"
   ]
  },
  {
   "cell_type": "code",
   "execution_count": 12,
   "metadata": {},
   "outputs": [],
   "source": [
    "class DataConfig(BaseModel):\n",
    "    \"\"\"\n",
    "    All configuration relevant to data\n",
    "    sanitization and transformer classes\n",
    "    \"\"\"\n",
    "\n",
    "    input_data_train: List[str]\n",
    "    input_data_pred: List[str]\n",
    "    categorical_variables: List[str]\n",
    "    numerical_variables: List[str]\n",
    "    map_variables : List[str]\n",
    "    rare_encode : List[str]\n",
    "    scale_vars : List[str]\n",
    "    temporal_vars : Dict[str, str]\n",
    "    zipcode_encoded : Dict[int, str]\n",
    "    view_encoded: Dict[int, str]\n",
    "    condition_encoded: Dict[int, str]\n",
    "    grade_encoded: Dict[int, str]"
   ]
  },
  {
   "cell_type": "code",
   "execution_count": 13,
   "metadata": {},
   "outputs": [],
   "source": [
    "\n",
    "class DataSchema(BaseModel):\n",
    "    \"\"\"\n",
    "    Data Input schema\n",
    "    \"\"\"\n",
    "    bedrooms: int\n",
    "    bathrooms: float\n",
    "    sqft_living: int\n",
    "    sqft_lot: int\n",
    "    floors: float\n",
    "    waterfront: int\n",
    "    view: int\n",
    "    condition: int\n",
    "    grade: int\n",
    "    sqft_above: int\n",
    "    sqft_basement: int\n",
    "    yr_built: int\n",
    "    yr_renovated: int\n",
    "    zipcode: int\n",
    "    sqft_living15: int\n",
    "    sqft_lot15: int"
   ]
  },
  {
   "cell_type": "code",
   "execution_count": 14,
   "metadata": {},
   "outputs": [],
   "source": [
    "\n",
    "class Config(BaseModel):\n",
    "    \"\"\"Master config object.\"\"\"\n",
    "\n",
    "    data_config: DataConfig\n",
    "    ml_config: ModelConfig"
   ]
  },
  {
   "cell_type": "code",
   "execution_count": 15,
   "metadata": {},
   "outputs": [],
   "source": [
    "\n",
    "class MultipleDataSchema(BaseModel):\n",
    "    inputs: List[DataSchema]"
   ]
  },
  {
   "cell_type": "code",
   "execution_count": 16,
   "metadata": {},
   "outputs": [],
   "source": [
    "try:\n",
    "    with open(CONFIG_FILE_PATH, \"r\") as conf_file:\n",
    "        parsed_config = load(conf_file.read())\n",
    "except:\n",
    "    raise OSError(f\"Did not find config file at path: {CONFIG_FILE_PATH}\")"
   ]
  },
  {
   "cell_type": "code",
   "execution_count": 18,
   "metadata": {},
   "outputs": [
    {
     "data": {
      "text/plain": [
       "{'input_data_pred': ['bedrooms',\n",
       "  'bathrooms',\n",
       "  'sqft_living',\n",
       "  'sqft_lot',\n",
       "  'floors',\n",
       "  'waterfront',\n",
       "  'view',\n",
       "  'condition',\n",
       "  'grade',\n",
       "  'sqft_above',\n",
       "  'sqft_basement',\n",
       "  'yr_built',\n",
       "  'yr_renovated',\n",
       "  'zipcode',\n",
       "  'sqft_living15',\n",
       "  'sqft_lot15'],\n",
       " 'input_data_train': ['bedrooms',\n",
       "  'bathrooms',\n",
       "  'sqft_living',\n",
       "  'sqft_lot',\n",
       "  'floors',\n",
       "  'waterfront',\n",
       "  'view',\n",
       "  'condition',\n",
       "  'grade',\n",
       "  'sqft_above',\n",
       "  'sqft_basement',\n",
       "  'yr_built',\n",
       "  'yr_renovated',\n",
       "  'zipcode',\n",
       "  'sqft_living15',\n",
       "  'sqft_lot15',\n",
       "  'price'],\n",
       " 'categorical_variables': ['zipcode',\n",
       "  'waterfront',\n",
       "  'view',\n",
       "  'condition',\n",
       "  'grade'],\n",
       " 'numerical_variables': ['bedrooms',\n",
       "  'bathrooms',\n",
       "  'sqft_living',\n",
       "  'sqft_lot',\n",
       "  'floors',\n",
       "  'sqft_above',\n",
       "  'sqft_basement',\n",
       "  'sqft_living15'],\n",
       " 'map_variables': ['zipcode_encoded',\n",
       "  'view_encoded',\n",
       "  'condition_encoded',\n",
       "  'grade_encoded'],\n",
       " 'rare_encode': ['zipcode', 'view', 'condition', 'grade'],\n",
       " 'temporal_vars': {'tempo_imovel': 'yr_built',\n",
       "  'tempo_renovacao': 'yr_renovated'},\n",
       " 'scale_vars': ['sqft_living',\n",
       "  'sqft_lot',\n",
       "  'sqft_above',\n",
       "  'sqft_basement',\n",
       "  'sqft_living15',\n",
       "  'sqft_lot15'],\n",
       " 'zipcode_encoded': {'98178': '0.0',\n",
       "  '98125': '1.0',\n",
       "  '98028': '2.0',\n",
       "  '98136': '3.0',\n",
       "  '98074': '4.0',\n",
       "  '98053': '5.0',\n",
       "  '98003': '6.0',\n",
       "  '98198': '7.0',\n",
       "  '98146': '8.0',\n",
       "  '98038': '9.0',\n",
       "  '00000': '10.0',\n",
       "  '98115': '11.0',\n",
       "  '98107': '12.0',\n",
       "  '98126': '13.0',\n",
       "  '98103': '14.0',\n",
       "  '98133': '15.0',\n",
       "  '98040': '16.0',\n",
       "  '98092': '17.0',\n",
       "  '98030': '18.0',\n",
       "  '98112': '19.0',\n",
       "  '98052': '20.0',\n",
       "  '98027': '21.0',\n",
       "  '98117': '22.0',\n",
       "  '98058': '23.0',\n",
       "  '98001': '24.0',\n",
       "  '98056': '25.0',\n",
       "  '98166': '26.0',\n",
       "  '98023': '27.0',\n",
       "  '98105': '28.0',\n",
       "  '98042': '29.0',\n",
       "  '98008': '30.0',\n",
       "  '98059': '31.0',\n",
       "  '98122': '32.0',\n",
       "  '98144': '33.0',\n",
       "  '98004': '34.0',\n",
       "  '98034': '35.0',\n",
       "  '98075': '36.0',\n",
       "  '98116': '37.0',\n",
       "  '98118': '38.0',\n",
       "  '98199': '39.0',\n",
       "  '98045': '40.0',\n",
       "  '98168': '41.0',\n",
       "  '98177': '42.0',\n",
       "  '98065': '43.0',\n",
       "  '98029': '44.0',\n",
       "  '98006': '45.0',\n",
       "  '98022': '46.0',\n",
       "  '98033': '47.0',\n",
       "  '98155': '48.0',\n",
       "  '98031': '49.0',\n",
       "  '98106': '50.0',\n",
       "  '98072': '51.0',\n",
       "  '98055': '52.0',\n",
       "  '99999': '53.0'},\n",
       " 'view_encoded': {'0': '0.0',\n",
       "  '1': '4.0',\n",
       "  '2': '3.0',\n",
       "  '3': '1.0',\n",
       "  '4': '2.0',\n",
       "  '00000': '5.0',\n",
       "  '99999': '6.0'},\n",
       " 'condition_encoded': {'3': '0.0',\n",
       "  '4': '2.0',\n",
       "  '5': '1.0',\n",
       "  '00000': '3.0',\n",
       "  '99999': '4.0'},\n",
       " 'grade_encoded': {'7': '0.0',\n",
       "  '6': '1.0',\n",
       "  '8': '2.0',\n",
       "  '11': '3.0',\n",
       "  '9': '4.0',\n",
       "  '5': '5.0',\n",
       "  '10': '6.0',\n",
       "  '00000': '7.0',\n",
       "  '99999': '8.0'},\n",
       " 'trained_model_file': 'models/house_price_regression',\n",
       " 'target': 'price',\n",
       " 'r2_score_limit': '0.7',\n",
       " 'train_data_path': 'datasets/house_price.csv',\n",
       " 'predict_data_path': 'datasets/house_price_predict.csv',\n",
       " 'result_data_path': 'datasets/results.csv',\n",
       " 'features': ['sqft_living',\n",
       "  'sqft_lot',\n",
       "  'sqft_above',\n",
       "  'sqft_basement',\n",
       "  'sqft_living15',\n",
       "  'sqft_lot15',\n",
       "  'bedrooms',\n",
       "  'bathrooms',\n",
       "  'floors',\n",
       "  'view_encoded',\n",
       "  'condition_encoded',\n",
       "  'grade_encoded',\n",
       "  'tempo_imovel',\n",
       "  'tempo_renovacao',\n",
       "  'zipcode_encoded']}"
      ]
     },
     "execution_count": 18,
     "metadata": {},
     "output_type": "execute_result"
    }
   ],
   "source": [
    "parsed_config.data"
   ]
  },
  {
   "cell_type": "code",
   "execution_count": 19,
   "metadata": {},
   "outputs": [],
   "source": [
    "def create_and_validate_config(cfg_path = CONFIG_FILE_PATH) -> Config:\n",
    "    \"\"\"Run validation on config values.\"\"\"\n",
    "\n",
    "    parsed_config = None\n",
    "    try:\n",
    "        with open(CONFIG_FILE_PATH, \"r\") as conf_file:\n",
    "            parsed_config = load(conf_file.read())\n",
    "    except:\n",
    "        raise OSError(f\"Did not find config file at path: {CONFIG_FILE_PATH}\")\n",
    "\n",
    "    \n",
    "    _config = Config(\n",
    "        data_config=DataConfig(**parsed_config.data),\n",
    "        ml_config=ModelConfig(**parsed_config.data),\n",
    "    )\n",
    "\n",
    "    return _config"
   ]
  },
  {
   "cell_type": "code",
   "execution_count": 20,
   "metadata": {},
   "outputs": [],
   "source": [
    "config = create_and_validate_config()"
   ]
  },
  {
   "cell_type": "code",
   "execution_count": 21,
   "metadata": {},
   "outputs": [
    {
     "data": {
      "text/plain": [
       "Config(data_config=DataConfig(input_data_train=['bedrooms', 'bathrooms', 'sqft_living', 'sqft_lot', 'floors', 'waterfront', 'view', 'condition', 'grade', 'sqft_above', 'sqft_basement', 'yr_built', 'yr_renovated', 'zipcode', 'sqft_living15', 'sqft_lot15', 'price'], input_data_pred=['bedrooms', 'bathrooms', 'sqft_living', 'sqft_lot', 'floors', 'waterfront', 'view', 'condition', 'grade', 'sqft_above', 'sqft_basement', 'yr_built', 'yr_renovated', 'zipcode', 'sqft_living15', 'sqft_lot15'], categorical_variables=['zipcode', 'waterfront', 'view', 'condition', 'grade'], numerical_variables=['bedrooms', 'bathrooms', 'sqft_living', 'sqft_lot', 'floors', 'sqft_above', 'sqft_basement', 'sqft_living15'], map_variables=['zipcode_encoded', 'view_encoded', 'condition_encoded', 'grade_encoded'], rare_encode=['zipcode', 'view', 'condition', 'grade'], scale_vars=['sqft_living', 'sqft_lot', 'sqft_above', 'sqft_basement', 'sqft_living15', 'sqft_lot15'], temporal_vars={'tempo_imovel': 'yr_built', 'tempo_renovacao': 'yr_renovated'}, zipcode_encoded={98178: '0.0', 98125: '1.0', 98028: '2.0', 98136: '3.0', 98074: '4.0', 98053: '5.0', 98003: '6.0', 98198: '7.0', 98146: '8.0', 98038: '9.0', 0: '10.0', 98115: '11.0', 98107: '12.0', 98126: '13.0', 98103: '14.0', 98133: '15.0', 98040: '16.0', 98092: '17.0', 98030: '18.0', 98112: '19.0', 98052: '20.0', 98027: '21.0', 98117: '22.0', 98058: '23.0', 98001: '24.0', 98056: '25.0', 98166: '26.0', 98023: '27.0', 98105: '28.0', 98042: '29.0', 98008: '30.0', 98059: '31.0', 98122: '32.0', 98144: '33.0', 98004: '34.0', 98034: '35.0', 98075: '36.0', 98116: '37.0', 98118: '38.0', 98199: '39.0', 98045: '40.0', 98168: '41.0', 98177: '42.0', 98065: '43.0', 98029: '44.0', 98006: '45.0', 98022: '46.0', 98033: '47.0', 98155: '48.0', 98031: '49.0', 98106: '50.0', 98072: '51.0', 98055: '52.0', 99999: '53.0'}, view_encoded={0: '5.0', 1: '4.0', 2: '3.0', 3: '1.0', 4: '2.0', 99999: '6.0'}, condition_encoded={3: '0.0', 4: '2.0', 5: '1.0', 0: '3.0', 99999: '4.0'}, grade_encoded={7: '0.0', 6: '1.0', 8: '2.0', 11: '3.0', 9: '4.0', 5: '5.0', 10: '6.0', 0: '7.0', 99999: '8.0'}), ml_config=ModelConfig(target='price', features=['sqft_living', 'sqft_lot', 'sqft_above', 'sqft_basement', 'sqft_living15', 'sqft_lot15', 'bedrooms', 'bathrooms', 'floors', 'view_encoded', 'condition_encoded', 'grade_encoded', 'tempo_imovel', 'tempo_renovacao', 'zipcode_encoded'], trained_model_file='models/house_price_regression', train_data_path='datasets/house_price.csv', result_data_path='datasets/results.csv', predict_data_path='datasets/house_price_predict.csv', r2_score_limit=0.7))"
      ]
     },
     "execution_count": 21,
     "metadata": {},
     "output_type": "execute_result"
    }
   ],
   "source": [
    "config"
   ]
  },
  {
   "cell_type": "code",
   "execution_count": 24,
   "metadata": {},
   "outputs": [
    {
     "data": {
      "text/plain": [
       "['sqft_living',\n",
       " 'sqft_lot',\n",
       " 'sqft_above',\n",
       " 'sqft_basement',\n",
       " 'sqft_living15',\n",
       " 'sqft_lot15',\n",
       " 'bedrooms',\n",
       " 'bathrooms',\n",
       " 'floors',\n",
       " 'view_encoded',\n",
       " 'condition_encoded',\n",
       " 'grade_encoded',\n",
       " 'tempo_imovel',\n",
       " 'tempo_renovacao',\n",
       " 'zipcode_encoded']"
      ]
     },
     "execution_count": 24,
     "metadata": {},
     "output_type": "execute_result"
    }
   ],
   "source": [
    "config.ml_config.features"
   ]
  },
  {
   "cell_type": "code",
   "execution_count": 25,
   "metadata": {},
   "outputs": [
    {
     "data": {
      "text/plain": [
       "['zipcode', 'waterfront', 'view', 'condition', 'grade']"
      ]
     },
     "execution_count": 25,
     "metadata": {},
     "output_type": "execute_result"
    }
   ],
   "source": [
    "config.data_config.categorical_variables"
   ]
  }
 ],
 "metadata": {
  "kernelspec": {
   "display_name": "base",
   "language": "python",
   "name": "python3"
  },
  "language_info": {
   "codemirror_mode": {
    "name": "ipython",
    "version": 3
   },
   "file_extension": ".py",
   "mimetype": "text/x-python",
   "name": "python",
   "nbconvert_exporter": "python",
   "pygments_lexer": "ipython3",
   "version": "3.12.4"
  }
 },
 "nbformat": 4,
 "nbformat_minor": 2
}
