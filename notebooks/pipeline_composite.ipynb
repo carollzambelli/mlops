{
 "cells": [
  {
   "cell_type": "code",
   "execution_count": 1,
   "id": "87ef03ad",
   "metadata": {},
   "outputs": [],
   "source": [
    "import pandas as pd\n",
    "import numpy as np\n",
    "from sklearn.base import BaseEstimator, TransformerMixin\n",
    "from sklearn.pipeline import Pipeline, FeatureUnion\n",
    "from sklearn.impute import SimpleImputer\n",
    "from sklearn.preprocessing import MinMaxScaler\n",
    "from sklearn.compose import ColumnTransformer \n",
    "from sklearn.preprocessing import OneHotEncoder, StandardScaler "
   ]
  },
  {
   "cell_type": "code",
   "execution_count": 2,
   "id": "f3a37264",
   "metadata": {},
   "outputs": [
    {
     "data": {
      "text/html": [
       "<div>\n",
       "<style scoped>\n",
       "    .dataframe tbody tr th:only-of-type {\n",
       "        vertical-align: middle;\n",
       "    }\n",
       "\n",
       "    .dataframe tbody tr th {\n",
       "        vertical-align: top;\n",
       "    }\n",
       "\n",
       "    .dataframe thead th {\n",
       "        text-align: right;\n",
       "    }\n",
       "</style>\n",
       "<table border=\"1\" class=\"dataframe\">\n",
       "  <thead>\n",
       "    <tr style=\"text-align: right;\">\n",
       "      <th></th>\n",
       "      <th>COD_CARTAO</th>\n",
       "      <th>IDADE_CLIENTE</th>\n",
       "      <th>RENDA_MENSAL_CLIENTE</th>\n",
       "      <th>BEHAVIOUR_SCORE_CLIENTE</th>\n",
       "      <th>QTD_TRANSACOES_3M</th>\n",
       "      <th>QTD_ITENS_3M</th>\n",
       "      <th>VALOR_GASTO_3M</th>\n",
       "      <th>TICKET_MEDIO_3M</th>\n",
       "      <th>FLAG_ELETRONICOS_3M</th>\n",
       "      <th>SATISFACAO_ULTIMA_COMPRA</th>\n",
       "      <th>VALOR_GASTO_PROX_12M</th>\n",
       "    </tr>\n",
       "  </thead>\n",
       "  <tbody>\n",
       "    <tr>\n",
       "      <th>0</th>\n",
       "      <td>212394</td>\n",
       "      <td>22</td>\n",
       "      <td>1500</td>\n",
       "      <td>52</td>\n",
       "      <td>2</td>\n",
       "      <td>4</td>\n",
       "      <td>802</td>\n",
       "      <td>401.00</td>\n",
       "      <td>0</td>\n",
       "      <td>01_Muito_Satisfeito</td>\n",
       "      <td>226</td>\n",
       "    </tr>\n",
       "    <tr>\n",
       "      <th>1</th>\n",
       "      <td>279177</td>\n",
       "      <td>29</td>\n",
       "      <td>1800</td>\n",
       "      <td>94</td>\n",
       "      <td>5</td>\n",
       "      <td>5</td>\n",
       "      <td>1384</td>\n",
       "      <td>276.80</td>\n",
       "      <td>1</td>\n",
       "      <td>03_Neutro</td>\n",
       "      <td>2786</td>\n",
       "    </tr>\n",
       "    <tr>\n",
       "      <th>2</th>\n",
       "      <td>291430</td>\n",
       "      <td>36</td>\n",
       "      <td>1500</td>\n",
       "      <td>89</td>\n",
       "      <td>5</td>\n",
       "      <td>6</td>\n",
       "      <td>1610</td>\n",
       "      <td>322.00</td>\n",
       "      <td>1</td>\n",
       "      <td>Nao_Respondeu</td>\n",
       "      <td>3737</td>\n",
       "    </tr>\n",
       "    <tr>\n",
       "      <th>3</th>\n",
       "      <td>176612</td>\n",
       "      <td>43</td>\n",
       "      <td>1500</td>\n",
       "      <td>48</td>\n",
       "      <td>3</td>\n",
       "      <td>4</td>\n",
       "      <td>836</td>\n",
       "      <td>278.67</td>\n",
       "      <td>0</td>\n",
       "      <td>01_Muito_Satisfeito</td>\n",
       "      <td>1162</td>\n",
       "    </tr>\n",
       "    <tr>\n",
       "      <th>4</th>\n",
       "      <td>223092</td>\n",
       "      <td>28</td>\n",
       "      <td>12090</td>\n",
       "      <td>89</td>\n",
       "      <td>4</td>\n",
       "      <td>5</td>\n",
       "      <td>1318</td>\n",
       "      <td>329.50</td>\n",
       "      <td>0</td>\n",
       "      <td>Nao_Respondeu</td>\n",
       "      <td>2699</td>\n",
       "    </tr>\n",
       "  </tbody>\n",
       "</table>\n",
       "</div>"
      ],
      "text/plain": [
       "   COD_CARTAO  IDADE_CLIENTE  RENDA_MENSAL_CLIENTE  BEHAVIOUR_SCORE_CLIENTE  \\\n",
       "0      212394             22                  1500                       52   \n",
       "1      279177             29                  1800                       94   \n",
       "2      291430             36                  1500                       89   \n",
       "3      176612             43                  1500                       48   \n",
       "4      223092             28                 12090                       89   \n",
       "\n",
       "   QTD_TRANSACOES_3M  QTD_ITENS_3M  VALOR_GASTO_3M  TICKET_MEDIO_3M  \\\n",
       "0                  2             4             802           401.00   \n",
       "1                  5             5            1384           276.80   \n",
       "2                  5             6            1610           322.00   \n",
       "3                  3             4             836           278.67   \n",
       "4                  4             5            1318           329.50   \n",
       "\n",
       "   FLAG_ELETRONICOS_3M SATISFACAO_ULTIMA_COMPRA  VALOR_GASTO_PROX_12M  \n",
       "0                    0      01_Muito_Satisfeito                   226  \n",
       "1                    1                03_Neutro                  2786  \n",
       "2                    1            Nao_Respondeu                  3737  \n",
       "3                    0      01_Muito_Satisfeito                  1162  \n",
       "4                    0            Nao_Respondeu                  2699  "
      ]
     },
     "execution_count": 2,
     "metadata": {},
     "output_type": "execute_result"
    }
   ],
   "source": [
    "dados = pd.read_table(\"../datasets/Potencial_Novos_Clientes.txt\",\n",
    "                      sep=\"\\t\",\n",
    "                      header=0)\n",
    "dados.head()"
   ]
  },
  {
   "cell_type": "markdown",
   "id": "981e0f2b",
   "metadata": {},
   "source": [
    "#### Transformer"
   ]
  },
  {
   "cell_type": "code",
   "execution_count": 3,
   "id": "def22651",
   "metadata": {},
   "outputs": [],
   "source": [
    "# Podemos criar nossos próprios estimadores e transformers\n",
    "class ColumnSelector(BaseEstimator, TransformerMixin):\n",
    "    '''Seleciona um subset de um dado dataframe a partir de uma lista de colunas'''\n",
    "    def __init__(self, cols_list):\n",
    "        self.cols_list = cols_list\n",
    "        \n",
    "    def fit(self, X, y=None):\n",
    "        return self\n",
    "    \n",
    "    def transform(self, X, y=None):\n",
    "        return X.loc[:, self.cols_list]"
   ]
  },
  {
   "cell_type": "code",
   "execution_count": 4,
   "id": "aeabbf62",
   "metadata": {},
   "outputs": [
    {
     "data": {
      "text/html": [
       "<div>\n",
       "<style scoped>\n",
       "    .dataframe tbody tr th:only-of-type {\n",
       "        vertical-align: middle;\n",
       "    }\n",
       "\n",
       "    .dataframe tbody tr th {\n",
       "        vertical-align: top;\n",
       "    }\n",
       "\n",
       "    .dataframe thead th {\n",
       "        text-align: right;\n",
       "    }\n",
       "</style>\n",
       "<table border=\"1\" class=\"dataframe\">\n",
       "  <thead>\n",
       "    <tr style=\"text-align: right;\">\n",
       "      <th></th>\n",
       "      <th>IDADE_CLIENTE</th>\n",
       "      <th>RENDA_MENSAL_CLIENTE</th>\n",
       "      <th>BEHAVIOUR_SCORE_CLIENTE</th>\n",
       "      <th>QTD_TRANSACOES_3M</th>\n",
       "      <th>QTD_ITENS_3M</th>\n",
       "      <th>VALOR_GASTO_3M</th>\n",
       "      <th>TICKET_MEDIO_3M</th>\n",
       "    </tr>\n",
       "  </thead>\n",
       "  <tbody>\n",
       "    <tr>\n",
       "      <th>0</th>\n",
       "      <td>22</td>\n",
       "      <td>1500</td>\n",
       "      <td>52</td>\n",
       "      <td>2</td>\n",
       "      <td>4</td>\n",
       "      <td>802</td>\n",
       "      <td>401.00</td>\n",
       "    </tr>\n",
       "    <tr>\n",
       "      <th>1</th>\n",
       "      <td>29</td>\n",
       "      <td>1800</td>\n",
       "      <td>94</td>\n",
       "      <td>5</td>\n",
       "      <td>5</td>\n",
       "      <td>1384</td>\n",
       "      <td>276.80</td>\n",
       "    </tr>\n",
       "    <tr>\n",
       "      <th>2</th>\n",
       "      <td>36</td>\n",
       "      <td>1500</td>\n",
       "      <td>89</td>\n",
       "      <td>5</td>\n",
       "      <td>6</td>\n",
       "      <td>1610</td>\n",
       "      <td>322.00</td>\n",
       "    </tr>\n",
       "    <tr>\n",
       "      <th>3</th>\n",
       "      <td>43</td>\n",
       "      <td>1500</td>\n",
       "      <td>48</td>\n",
       "      <td>3</td>\n",
       "      <td>4</td>\n",
       "      <td>836</td>\n",
       "      <td>278.67</td>\n",
       "    </tr>\n",
       "    <tr>\n",
       "      <th>4</th>\n",
       "      <td>28</td>\n",
       "      <td>12090</td>\n",
       "      <td>89</td>\n",
       "      <td>4</td>\n",
       "      <td>5</td>\n",
       "      <td>1318</td>\n",
       "      <td>329.50</td>\n",
       "    </tr>\n",
       "  </tbody>\n",
       "</table>\n",
       "</div>"
      ],
      "text/plain": [
       "   IDADE_CLIENTE  RENDA_MENSAL_CLIENTE  BEHAVIOUR_SCORE_CLIENTE  \\\n",
       "0             22                  1500                       52   \n",
       "1             29                  1800                       94   \n",
       "2             36                  1500                       89   \n",
       "3             43                  1500                       48   \n",
       "4             28                 12090                       89   \n",
       "\n",
       "   QTD_TRANSACOES_3M  QTD_ITENS_3M  VALOR_GASTO_3M  TICKET_MEDIO_3M  \n",
       "0                  2             4             802           401.00  \n",
       "1                  5             5            1384           276.80  \n",
       "2                  5             6            1610           322.00  \n",
       "3                  3             4             836           278.67  \n",
       "4                  4             5            1318           329.50  "
      ]
     },
     "execution_count": 4,
     "metadata": {},
     "output_type": "execute_result"
    }
   ],
   "source": [
    "cols_list_quanti = ['IDADE_CLIENTE',\n",
    "                  'RENDA_MENSAL_CLIENTE',\n",
    "                  'BEHAVIOUR_SCORE_CLIENTE',\n",
    "                  'QTD_TRANSACOES_3M',\n",
    "                  'QTD_ITENS_3M',\n",
    "                  'VALOR_GASTO_3M',\n",
    "                  'TICKET_MEDIO_3M']\n",
    "\n",
    "dados_subset = ColumnSelector(cols_list_quanti)\n",
    "dados_subset.transform(dados).head()\n"
   ]
  },
  {
   "cell_type": "markdown",
   "id": "3863ce55",
   "metadata": {},
   "source": [
    "#### Pipeline"
   ]
  },
  {
   "cell_type": "code",
   "execution_count": 5,
   "id": "4da875ac",
   "metadata": {},
   "outputs": [],
   "source": [
    "num_pipe = Pipeline([('get_num_cols', ColumnSelector(cols_list_quanti)),\n",
    "                ('fix_nan', SimpleImputer(missing_values=np.nan, strategy='median')),\n",
    "                ('scale_data', MinMaxScaler())\n",
    "])"
   ]
  },
  {
   "cell_type": "code",
   "execution_count": 6,
   "id": "2527068c",
   "metadata": {},
   "outputs": [
    {
     "data": {
      "text/html": [
       "<div>\n",
       "<style scoped>\n",
       "    .dataframe tbody tr th:only-of-type {\n",
       "        vertical-align: middle;\n",
       "    }\n",
       "\n",
       "    .dataframe tbody tr th {\n",
       "        vertical-align: top;\n",
       "    }\n",
       "\n",
       "    .dataframe thead th {\n",
       "        text-align: right;\n",
       "    }\n",
       "</style>\n",
       "<table border=\"1\" class=\"dataframe\">\n",
       "  <thead>\n",
       "    <tr style=\"text-align: right;\">\n",
       "      <th></th>\n",
       "      <th>0</th>\n",
       "      <th>1</th>\n",
       "      <th>2</th>\n",
       "      <th>3</th>\n",
       "      <th>4</th>\n",
       "      <th>5</th>\n",
       "      <th>6</th>\n",
       "    </tr>\n",
       "  </thead>\n",
       "  <tbody>\n",
       "    <tr>\n",
       "      <th>0</th>\n",
       "      <td>0.054054</td>\n",
       "      <td>0.00000</td>\n",
       "      <td>0.347222</td>\n",
       "      <td>0.066667</td>\n",
       "      <td>0.111111</td>\n",
       "      <td>0.139575</td>\n",
       "      <td>0.147390</td>\n",
       "    </tr>\n",
       "    <tr>\n",
       "      <th>1</th>\n",
       "      <td>0.148649</td>\n",
       "      <td>0.00464</td>\n",
       "      <td>0.930556</td>\n",
       "      <td>0.266667</td>\n",
       "      <td>0.148148</td>\n",
       "      <td>0.251931</td>\n",
       "      <td>0.090610</td>\n",
       "    </tr>\n",
       "    <tr>\n",
       "      <th>2</th>\n",
       "      <td>0.243243</td>\n",
       "      <td>0.00000</td>\n",
       "      <td>0.861111</td>\n",
       "      <td>0.266667</td>\n",
       "      <td>0.185185</td>\n",
       "      <td>0.295560</td>\n",
       "      <td>0.111274</td>\n",
       "    </tr>\n",
       "    <tr>\n",
       "      <th>3</th>\n",
       "      <td>0.337838</td>\n",
       "      <td>0.00000</td>\n",
       "      <td>0.291667</td>\n",
       "      <td>0.133333</td>\n",
       "      <td>0.111111</td>\n",
       "      <td>0.146139</td>\n",
       "      <td>0.091465</td>\n",
       "    </tr>\n",
       "    <tr>\n",
       "      <th>4</th>\n",
       "      <td>0.135135</td>\n",
       "      <td>0.16378</td>\n",
       "      <td>0.861111</td>\n",
       "      <td>0.200000</td>\n",
       "      <td>0.148148</td>\n",
       "      <td>0.239189</td>\n",
       "      <td>0.114702</td>\n",
       "    </tr>\n",
       "  </tbody>\n",
       "</table>\n",
       "</div>"
      ],
      "text/plain": [
       "          0        1         2         3         4         5         6\n",
       "0  0.054054  0.00000  0.347222  0.066667  0.111111  0.139575  0.147390\n",
       "1  0.148649  0.00464  0.930556  0.266667  0.148148  0.251931  0.090610\n",
       "2  0.243243  0.00000  0.861111  0.266667  0.185185  0.295560  0.111274\n",
       "3  0.337838  0.00000  0.291667  0.133333  0.111111  0.146139  0.091465\n",
       "4  0.135135  0.16378  0.861111  0.200000  0.148148  0.239189  0.114702"
      ]
     },
     "execution_count": 6,
     "metadata": {},
     "output_type": "execute_result"
    }
   ],
   "source": [
    "dados_transformados = pd.DataFrame(num_pipe.fit_transform(dados))\n",
    "dados_transformados.head()"
   ]
  },
  {
   "cell_type": "markdown",
   "id": "f3b94d49",
   "metadata": {},
   "source": [
    "#### ColumnTransformer"
   ]
  },
  {
   "cell_type": "code",
   "execution_count": null,
   "id": "07583f1b",
   "metadata": {},
   "outputs": [],
   "source": [
    "cols_list_quali= ['FLAG_ELETRONICOS_3M',\n",
    "                 'SATISFACAO_ULTIMA_COMPRA']"
   ]
  },
  {
   "cell_type": "code",
   "execution_count": null,
   "id": "025237d4",
   "metadata": {},
   "outputs": [],
   "source": [
    "FeatureEng = ColumnTransformer(\n",
    "    transformers=[\n",
    "        ('cat_ohe', OneHotEncoder(), cols_list_quali),\n",
    "        ('num_pipe', num_pipe, cols_list_quanti)\n",
    "    ]\n",
    ")\n",
    "pd.DataFrame(FeatureEng.fit_transform(dados))"
   ]
  },
  {
   "cell_type": "markdown",
   "id": "370825e4",
   "metadata": {},
   "source": [
    "#### Como aplicar"
   ]
  },
  {
   "cell_type": "code",
   "execution_count": 7,
   "id": "36a48a0f",
   "metadata": {},
   "outputs": [],
   "source": [
    "from sklearn.model_selection import RandomizedSearchCV                                                \n",
    "from sklearn.model_selection import train_test_split\n",
    "from sklearn.linear_model import LinearRegression, Ridge\n",
    "from scipy.stats import loguniform \n",
    "import warnings\n",
    "warnings.filterwarnings('ignore')"
   ]
  },
  {
   "cell_type": "code",
   "execution_count": 8,
   "id": "1febb71e",
   "metadata": {},
   "outputs": [],
   "source": [
    "lista_X_quanti = ['IDADE_CLIENTE',\n",
    "                  'RENDA_MENSAL_CLIENTE',\n",
    "                  'BEHAVIOUR_SCORE_CLIENTE',\n",
    "                  'QTD_TRANSACOES_3M',\n",
    "                  'QTD_ITENS_3M',\n",
    "                  'VALOR_GASTO_3M',\n",
    "                  'TICKET_MEDIO_3M']\n",
    "\n",
    "lista_X_quali = ['FLAG_ELETRONICOS_3M',\n",
    "                 'SATISFACAO_ULTIMA_COMPRA']"
   ]
  },
  {
   "cell_type": "code",
   "execution_count": 9,
   "id": "37b88fc4",
   "metadata": {},
   "outputs": [],
   "source": [
    "y = dados['VALOR_GASTO_PROX_12M']\n",
    "X = dados[lista_X_quanti + lista_X_quali]\n",
    "\n",
    "X_treino, X_teste, y_treino, y_teste = train_test_split(X, y, test_size=0.2, random_state=123)                                                        "
   ]
  },
  {
   "cell_type": "code",
   "execution_count": 10,
   "id": "1b0a433f",
   "metadata": {},
   "outputs": [],
   "source": [
    "#X_teste.to_csv(\"X_teste.csv\", index=False)"
   ]
  },
  {
   "cell_type": "code",
   "execution_count": 11,
   "id": "31879ef8",
   "metadata": {},
   "outputs": [],
   "source": [
    "class Wrapper(BaseEstimator):\n",
    "    def __init__(self, intermediate_model):                \n",
    "        self.intermediate_model = intermediate_model\n",
    "    def fit(self, X, y=None):                        \n",
    "        return self                                  \n",
    "    def transform(self, X_teste):\n",
    "        return self.intermediate_model.predict(X_teste)"
   ]
  },
  {
   "cell_type": "code",
   "execution_count": 12,
   "id": "9ab35a54",
   "metadata": {},
   "outputs": [],
   "source": [
    "preprocessador = ColumnTransformer(transformers=[\n",
    "    (\"quanti\", StandardScaler(), lista_X_quanti),\n",
    "    (\"quali\", OneHotEncoder(\n",
    "        sparse_output=False,drop=\"first\", handle_unknown='ignore'),lista_X_quali)\n",
    "])"
   ]
  },
  {
   "cell_type": "code",
   "execution_count": 13,
   "id": "88c15c75",
   "metadata": {},
   "outputs": [],
   "source": [
    "RL = Pipeline([\n",
    "        (\"preprocess\", preprocessador),\n",
    "        (\"linear regression\", RandomizedSearchCV(estimator=LinearRegression(),\n",
    "                  param_distributions={},\n",
    "                  scoring='neg_root_mean_squared_log_error',\n",
    "                  cv=10) )\n",
    "])"
   ]
  },
  {
   "cell_type": "code",
   "execution_count": 14,
   "id": "52d4f715",
   "metadata": {},
   "outputs": [],
   "source": [
    "RD =  Pipeline([\n",
    "        (\"preprocess\", preprocessador),\n",
    "        (\"linear regression\", RandomizedSearchCV(estimator=Ridge(),\n",
    "                  param_distributions={'alpha': loguniform(1e-5, 1e1) },\n",
    "                  scoring='neg_root_mean_squared_log_error',\n",
    "                  cv=10) )\n",
    "])"
   ]
  },
  {
   "cell_type": "code",
   "execution_count": 15,
   "id": "6c9b2b2a",
   "metadata": {},
   "outputs": [],
   "source": [
    "treino_predict_pipe = FeatureUnion([\n",
    "    ('linear', Wrapper(RL.fit(X_treino, y_treino))),\n",
    "    ('ridge', Wrapper(RD.fit(X_treino, y_treino)))\n",
    "])"
   ]
  },
  {
   "cell_type": "code",
   "execution_count": 16,
   "id": "e9a2ab81",
   "metadata": {},
   "outputs": [
    {
     "data": {
      "text/plain": [
       "array([ 584.75055789, 5481.49951283, 4338.86026119, 2023.84551492,\n",
       "       3137.28878541, 5922.15906779, 1843.64941438, 4680.58782678,\n",
       "       1788.20394403, 1585.34864919])"
      ]
     },
     "execution_count": 16,
     "metadata": {},
     "output_type": "execute_result"
    }
   ],
   "source": [
    "y_hat = treino_predict_pipe.fit_transform(X_teste)\n",
    "y_hat[:10]"
   ]
  },
  {
   "cell_type": "code",
   "execution_count": 17,
   "id": "839dd2e7",
   "metadata": {},
   "outputs": [],
   "source": [
    "model_select = int(len(y_hat)/2)"
   ]
  },
  {
   "cell_type": "code",
   "execution_count": 18,
   "id": "a5dd7d77",
   "metadata": {},
   "outputs": [
    {
     "name": "stdout",
     "output_type": "stream",
     "text": [
      "696.79226412171\n",
      "696.4215975105282\n"
     ]
    }
   ],
   "source": [
    "from sklearn.metrics import root_mean_squared_error\n",
    "print(root_mean_squared_error(y_teste, y_hat[:model_select]))\n",
    "print(root_mean_squared_error(y_teste, y_hat[model_select:]))"
   ]
  }
 ],
 "metadata": {
  "kernelspec": {
   "display_name": "base",
   "language": "python",
   "name": "python3"
  },
  "language_info": {
   "codemirror_mode": {
    "name": "ipython",
    "version": 3
   },
   "file_extension": ".py",
   "mimetype": "text/x-python",
   "name": "python",
   "nbconvert_exporter": "python",
   "pygments_lexer": "ipython3",
   "version": "3.12.7"
  }
 },
 "nbformat": 4,
 "nbformat_minor": 5
}
